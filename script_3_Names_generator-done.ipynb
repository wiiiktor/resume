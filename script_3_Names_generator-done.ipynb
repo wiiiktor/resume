{
  "cells": [
    {
      "cell_type": "markdown",
      "metadata": {
        "id": "view-in-github"
      },
      "source": [
        "<a href=\"https://colab.research.google.com/github/fmigas/Projects/blob/main/names_generator.ipynb\" target=\"_parent\"><img src=\"https://colab.research.google.com/assets/colab-badge.svg\" alt=\"Open In Colab\"/></a>"
      ]
    },
    {
      "cell_type": "markdown",
      "metadata": {
        "id": "2KxEDfxFHZgO"
      },
      "source": [
        "The objective of this project is to check how adding randomnes to a text-generating model adds quality to the end product.\n",
        "\n",
        "The basis of the model is a simple LSTM network. Its task is to learn English and Polish names and later generate names using different schemes."
      ]
    },
    {
      "cell_type": "markdown",
      "metadata": {
        "id": "xz3ecmo7J9_6"
      },
      "source": [
        "Let's start with the imports."
      ]
    },
    {
      "cell_type": "code",
      "execution_count": 2,
      "metadata": {
        "id": "8ggQHdFzGlTe"
      },
      "outputs": [],
      "source": [
        "import numpy as np\n",
        "from keras.models import Sequential\n",
        "from keras.layers import Dense\n",
        "from keras.layers import Dropout\n",
        "from keras.layers import LSTM\n",
        "from keras.layers import Bidirectional\n",
        "from keras.src.utils.np_utils import to_categorical\n",
        "from tensorflow.keras.preprocessing.sequence import pad_sequences\n",
        "import pandas as pd\n",
        "import os\n",
        "os. environ['TF_CPP_MIN_LOG_LEVEL'] = '3'"
      ]
    },
    {
      "cell_type": "markdown",
      "metadata": {
        "id": "OU8gYWLSaZKK"
      },
      "source": [
        "Let's start with loading data - Polish and English names."
      ]
    },
    {
      "cell_type": "code",
      "execution_count": 3,
      "metadata": {
        "id": "fUh90YyJSfST"
      },
      "outputs": [],
      "source": [
        "pnames = pd.read_csv('data/P_names.csv')\n",
        "enames = pd.read_csv('data/E_names.csv')"
      ]
    },
    {
      "cell_type": "code",
      "execution_count": 4,
      "metadata": {
        "colab": {
          "base_uri": "https://localhost:8080/"
        },
        "id": "unVB3MAEbRdk",
        "outputId": "d95a72f6-91ff-4755-ae58-7fc0481f3f2b"
      },
      "outputs": [
        {
          "output_type": "stream",
          "name": "stdout",
          "text": [
            "Number of Polish names in a database: 1711\n",
            "Number of English names in a database: 18238\n"
          ]
        }
      ],
      "source": [
        "print(f'Number of Polish names in a database: {len(pnames)}')\n",
        "print(f'Number of English names in a database: {len(enames)}')"
      ]
    },
    {
      "cell_type": "markdown",
      "metadata": {
        "id": "rxaSUfZLboZA"
      },
      "source": [
        "We have over 10 times as many English names as Polish names. We'll see how it affects the quality of what our model can produce.\n",
        "\n",
        "A fan fact for English readers. In the USA if you have a kid, you can use any word that you wish as his/her name, your fantasty and your warm feelings towards your kid's future in a school is your limit.\n",
        "\n",
        "In Poland (and probably in many other countries) you can only choose from an officially approved list of authorized names. Probably that is a reason why a list of Polish names is over 10 times shorter."
      ]
    },
    {
      "cell_type": "code",
      "execution_count": 5,
      "metadata": {
        "colab": {
          "base_uri": "https://localhost:8080/",
          "height": 206
        },
        "id": "Pi96_pP-b63u",
        "outputId": "f15fd3cb-c54c-4457-bf9f-9f2933545924"
      },
      "outputs": [
        {
          "output_type": "execute_result",
          "data": {
            "text/plain": [
              "          name  len\n",
              "0      michael    7\n",
              "1  christopher   11\n",
              "2      jessica    7\n",
              "3      matthew    7\n",
              "4       ashley    6"
            ],
            "text/html": [
              "\n",
              "  <div id=\"df-d22d8fbd-70ae-4090-8218-a1863e98eb93\" class=\"colab-df-container\">\n",
              "    <div>\n",
              "<style scoped>\n",
              "    .dataframe tbody tr th:only-of-type {\n",
              "        vertical-align: middle;\n",
              "    }\n",
              "\n",
              "    .dataframe tbody tr th {\n",
              "        vertical-align: top;\n",
              "    }\n",
              "\n",
              "    .dataframe thead th {\n",
              "        text-align: right;\n",
              "    }\n",
              "</style>\n",
              "<table border=\"1\" class=\"dataframe\">\n",
              "  <thead>\n",
              "    <tr style=\"text-align: right;\">\n",
              "      <th></th>\n",
              "      <th>name</th>\n",
              "      <th>len</th>\n",
              "    </tr>\n",
              "  </thead>\n",
              "  <tbody>\n",
              "    <tr>\n",
              "      <th>0</th>\n",
              "      <td>michael</td>\n",
              "      <td>7</td>\n",
              "    </tr>\n",
              "    <tr>\n",
              "      <th>1</th>\n",
              "      <td>christopher</td>\n",
              "      <td>11</td>\n",
              "    </tr>\n",
              "    <tr>\n",
              "      <th>2</th>\n",
              "      <td>jessica</td>\n",
              "      <td>7</td>\n",
              "    </tr>\n",
              "    <tr>\n",
              "      <th>3</th>\n",
              "      <td>matthew</td>\n",
              "      <td>7</td>\n",
              "    </tr>\n",
              "    <tr>\n",
              "      <th>4</th>\n",
              "      <td>ashley</td>\n",
              "      <td>6</td>\n",
              "    </tr>\n",
              "  </tbody>\n",
              "</table>\n",
              "</div>\n",
              "    <div class=\"colab-df-buttons\">\n",
              "\n",
              "  <div class=\"colab-df-container\">\n",
              "    <button class=\"colab-df-convert\" onclick=\"convertToInteractive('df-d22d8fbd-70ae-4090-8218-a1863e98eb93')\"\n",
              "            title=\"Convert this dataframe to an interactive table.\"\n",
              "            style=\"display:none;\">\n",
              "\n",
              "  <svg xmlns=\"http://www.w3.org/2000/svg\" height=\"24px\" viewBox=\"0 -960 960 960\">\n",
              "    <path d=\"M120-120v-720h720v720H120Zm60-500h600v-160H180v160Zm220 220h160v-160H400v160Zm0 220h160v-160H400v160ZM180-400h160v-160H180v160Zm440 0h160v-160H620v160ZM180-180h160v-160H180v160Zm440 0h160v-160H620v160Z\"/>\n",
              "  </svg>\n",
              "    </button>\n",
              "\n",
              "  <style>\n",
              "    .colab-df-container {\n",
              "      display:flex;\n",
              "      gap: 12px;\n",
              "    }\n",
              "\n",
              "    .colab-df-convert {\n",
              "      background-color: #E8F0FE;\n",
              "      border: none;\n",
              "      border-radius: 50%;\n",
              "      cursor: pointer;\n",
              "      display: none;\n",
              "      fill: #1967D2;\n",
              "      height: 32px;\n",
              "      padding: 0 0 0 0;\n",
              "      width: 32px;\n",
              "    }\n",
              "\n",
              "    .colab-df-convert:hover {\n",
              "      background-color: #E2EBFA;\n",
              "      box-shadow: 0px 1px 2px rgba(60, 64, 67, 0.3), 0px 1px 3px 1px rgba(60, 64, 67, 0.15);\n",
              "      fill: #174EA6;\n",
              "    }\n",
              "\n",
              "    .colab-df-buttons div {\n",
              "      margin-bottom: 4px;\n",
              "    }\n",
              "\n",
              "    [theme=dark] .colab-df-convert {\n",
              "      background-color: #3B4455;\n",
              "      fill: #D2E3FC;\n",
              "    }\n",
              "\n",
              "    [theme=dark] .colab-df-convert:hover {\n",
              "      background-color: #434B5C;\n",
              "      box-shadow: 0px 1px 3px 1px rgba(0, 0, 0, 0.15);\n",
              "      filter: drop-shadow(0px 1px 2px rgba(0, 0, 0, 0.3));\n",
              "      fill: #FFFFFF;\n",
              "    }\n",
              "  </style>\n",
              "\n",
              "    <script>\n",
              "      const buttonEl =\n",
              "        document.querySelector('#df-d22d8fbd-70ae-4090-8218-a1863e98eb93 button.colab-df-convert');\n",
              "      buttonEl.style.display =\n",
              "        google.colab.kernel.accessAllowed ? 'block' : 'none';\n",
              "\n",
              "      async function convertToInteractive(key) {\n",
              "        const element = document.querySelector('#df-d22d8fbd-70ae-4090-8218-a1863e98eb93');\n",
              "        const dataTable =\n",
              "          await google.colab.kernel.invokeFunction('convertToInteractive',\n",
              "                                                    [key], {});\n",
              "        if (!dataTable) return;\n",
              "\n",
              "        const docLinkHtml = 'Like what you see? Visit the ' +\n",
              "          '<a target=\"_blank\" href=https://colab.research.google.com/notebooks/data_table.ipynb>data table notebook</a>'\n",
              "          + ' to learn more about interactive tables.';\n",
              "        element.innerHTML = '';\n",
              "        dataTable['output_type'] = 'display_data';\n",
              "        await google.colab.output.renderOutput(dataTable, element);\n",
              "        const docLink = document.createElement('div');\n",
              "        docLink.innerHTML = docLinkHtml;\n",
              "        element.appendChild(docLink);\n",
              "      }\n",
              "    </script>\n",
              "  </div>\n",
              "\n",
              "\n",
              "<div id=\"df-4e4cb982-5450-4219-ab9f-22789b0c1d88\">\n",
              "  <button class=\"colab-df-quickchart\" onclick=\"quickchart('df-4e4cb982-5450-4219-ab9f-22789b0c1d88')\"\n",
              "            title=\"Suggest charts.\"\n",
              "            style=\"display:none;\">\n",
              "\n",
              "<svg xmlns=\"http://www.w3.org/2000/svg\" height=\"24px\"viewBox=\"0 0 24 24\"\n",
              "     width=\"24px\">\n",
              "    <g>\n",
              "        <path d=\"M19 3H5c-1.1 0-2 .9-2 2v14c0 1.1.9 2 2 2h14c1.1 0 2-.9 2-2V5c0-1.1-.9-2-2-2zM9 17H7v-7h2v7zm4 0h-2V7h2v10zm4 0h-2v-4h2v4z\"/>\n",
              "    </g>\n",
              "</svg>\n",
              "  </button>\n",
              "\n",
              "<style>\n",
              "  .colab-df-quickchart {\n",
              "      --bg-color: #E8F0FE;\n",
              "      --fill-color: #1967D2;\n",
              "      --hover-bg-color: #E2EBFA;\n",
              "      --hover-fill-color: #174EA6;\n",
              "      --disabled-fill-color: #AAA;\n",
              "      --disabled-bg-color: #DDD;\n",
              "  }\n",
              "\n",
              "  [theme=dark] .colab-df-quickchart {\n",
              "      --bg-color: #3B4455;\n",
              "      --fill-color: #D2E3FC;\n",
              "      --hover-bg-color: #434B5C;\n",
              "      --hover-fill-color: #FFFFFF;\n",
              "      --disabled-bg-color: #3B4455;\n",
              "      --disabled-fill-color: #666;\n",
              "  }\n",
              "\n",
              "  .colab-df-quickchart {\n",
              "    background-color: var(--bg-color);\n",
              "    border: none;\n",
              "    border-radius: 50%;\n",
              "    cursor: pointer;\n",
              "    display: none;\n",
              "    fill: var(--fill-color);\n",
              "    height: 32px;\n",
              "    padding: 0;\n",
              "    width: 32px;\n",
              "  }\n",
              "\n",
              "  .colab-df-quickchart:hover {\n",
              "    background-color: var(--hover-bg-color);\n",
              "    box-shadow: 0 1px 2px rgba(60, 64, 67, 0.3), 0 1px 3px 1px rgba(60, 64, 67, 0.15);\n",
              "    fill: var(--button-hover-fill-color);\n",
              "  }\n",
              "\n",
              "  .colab-df-quickchart-complete:disabled,\n",
              "  .colab-df-quickchart-complete:disabled:hover {\n",
              "    background-color: var(--disabled-bg-color);\n",
              "    fill: var(--disabled-fill-color);\n",
              "    box-shadow: none;\n",
              "  }\n",
              "\n",
              "  .colab-df-spinner {\n",
              "    border: 2px solid var(--fill-color);\n",
              "    border-color: transparent;\n",
              "    border-bottom-color: var(--fill-color);\n",
              "    animation:\n",
              "      spin 1s steps(1) infinite;\n",
              "  }\n",
              "\n",
              "  @keyframes spin {\n",
              "    0% {\n",
              "      border-color: transparent;\n",
              "      border-bottom-color: var(--fill-color);\n",
              "      border-left-color: var(--fill-color);\n",
              "    }\n",
              "    20% {\n",
              "      border-color: transparent;\n",
              "      border-left-color: var(--fill-color);\n",
              "      border-top-color: var(--fill-color);\n",
              "    }\n",
              "    30% {\n",
              "      border-color: transparent;\n",
              "      border-left-color: var(--fill-color);\n",
              "      border-top-color: var(--fill-color);\n",
              "      border-right-color: var(--fill-color);\n",
              "    }\n",
              "    40% {\n",
              "      border-color: transparent;\n",
              "      border-right-color: var(--fill-color);\n",
              "      border-top-color: var(--fill-color);\n",
              "    }\n",
              "    60% {\n",
              "      border-color: transparent;\n",
              "      border-right-color: var(--fill-color);\n",
              "    }\n",
              "    80% {\n",
              "      border-color: transparent;\n",
              "      border-right-color: var(--fill-color);\n",
              "      border-bottom-color: var(--fill-color);\n",
              "    }\n",
              "    90% {\n",
              "      border-color: transparent;\n",
              "      border-bottom-color: var(--fill-color);\n",
              "    }\n",
              "  }\n",
              "</style>\n",
              "\n",
              "  <script>\n",
              "    async function quickchart(key) {\n",
              "      const quickchartButtonEl =\n",
              "        document.querySelector('#' + key + ' button');\n",
              "      quickchartButtonEl.disabled = true;  // To prevent multiple clicks.\n",
              "      quickchartButtonEl.classList.add('colab-df-spinner');\n",
              "      try {\n",
              "        const charts = await google.colab.kernel.invokeFunction(\n",
              "            'suggestCharts', [key], {});\n",
              "      } catch (error) {\n",
              "        console.error('Error during call to suggestCharts:', error);\n",
              "      }\n",
              "      quickchartButtonEl.classList.remove('colab-df-spinner');\n",
              "      quickchartButtonEl.classList.add('colab-df-quickchart-complete');\n",
              "    }\n",
              "    (() => {\n",
              "      let quickchartButtonEl =\n",
              "        document.querySelector('#df-4e4cb982-5450-4219-ab9f-22789b0c1d88 button');\n",
              "      quickchartButtonEl.style.display =\n",
              "        google.colab.kernel.accessAllowed ? 'block' : 'none';\n",
              "    })();\n",
              "  </script>\n",
              "</div>\n",
              "    </div>\n",
              "  </div>\n"
            ]
          },
          "metadata": {},
          "execution_count": 5
        }
      ],
      "source": [
        "enames.head()"
      ]
    },
    {
      "cell_type": "markdown",
      "metadata": {
        "id": "K9Ni-N3Hb-kc"
      },
      "source": [
        "I preprocessed both files beforehead to save your time here. In both files we have no duplicates, all names lower cased and a 'len' column added with a char count for each name."
      ]
    },
    {
      "cell_type": "markdown",
      "metadata": {
        "id": "Nq80U7vVMYoR"
      },
      "source": [
        "Our model is naturally a char-level generating model. It's core architecture and data stracture can be easily copied from any deep learning manual.\n",
        "\n",
        "What is interesting here is how we apply randomness at two levels:\n",
        "1. at the learning process by replacing some \"next char\" labels with random chars\n",
        "2. at the generating process by applying what I call a \"simplified Beam\" in place of a greedy search routine\n",
        "\n",
        "Will these two result in better, richer, more interesting and natural names? Let's see!"
      ]
    },
    {
      "cell_type": "markdown",
      "metadata": {
        "id": "d-pm86mLyZmU"
      },
      "source": [
        "Let's start with English names."
      ]
    },
    {
      "cell_type": "code",
      "execution_count": 6,
      "metadata": {
        "id": "7qwtKPAryx73"
      },
      "outputs": [],
      "source": [
        "names = enames"
      ]
    },
    {
      "cell_type": "markdown",
      "metadata": {
        "id": "S26PCbwxy1Yz"
      },
      "source": [
        "We need a full list of chars used in English names and length of the longest name.\n",
        "As a standard procedure in such models, we also build char_to_int and int_to_char dictionaries."
      ]
    },
    {
      "cell_type": "code",
      "execution_count": 7,
      "metadata": {
        "colab": {
          "base_uri": "https://localhost:8080/"
        },
        "id": "8hdFEB81y9th",
        "outputId": "3057b467-a75e-43d8-fd30-6721ae032c4a"
      },
      "outputs": [
        {
          "output_type": "stream",
          "name": "stdout",
          "text": [
            "The longest name is 15 chars long.\n",
            "Chars list: [' ', 'a', 'b', 'c', 'd', 'e', 'f', 'g', 'h', 'i', 'j', 'k', 'l', 'm', 'n', 'o', 'p', 'q', 'r', 's', 't', 'u', 'v', 'w', 'x', 'y', 'z']\n",
            "Number of unique chars, including white space: 27\n"
          ]
        }
      ],
      "source": [
        "max_len = names['len'].max()\n",
        "\n",
        "nlist = list(names['name'])\n",
        "text = ' '.join(nlist)\n",
        "chars = sorted(list(set(text)))\n",
        "print(f'The longest name is {max_len} chars long.')\n",
        "print(f\"Chars list: {chars}\")\n",
        "print(f\"Number of unique chars, including white space: {len(chars)}\")\n",
        "\n",
        "char_to_int = dict((c, i) for i, c in enumerate(chars))\n",
        "int_to_char = dict((i, c) for i, c in enumerate(chars))"
      ]
    },
    {
      "cell_type": "markdown",
      "metadata": {
        "id": "URYPBZlH1LBz"
      },
      "source": [
        "Now we begin to build our X and Y datasets."
      ]
    },
    {
      "cell_type": "code",
      "execution_count": 8,
      "metadata": {
        "colab": {
          "base_uri": "https://localhost:8080/"
        },
        "id": "CR2II3Y81THb",
        "outputId": "707aa2f3-d3b2-4e27-a7eb-ab87e7f7349f"
      },
      "outputs": [
        {
          "output_type": "stream",
          "name": "stdout",
          "text": [
            "X data\n",
            "[[13], [13, 9], [13, 9, 3], [13, 9, 3, 8], [13, 9, 3, 8, 1], [13, 9, 3, 8, 1, 5], [13, 9, 3, 8, 1, 5, 12], [3], [3, 8], [3, 8, 18], [3, 8, 18, 9], [3, 8, 18, 9, 19], [3, 8, 18, 9, 19, 20], [3, 8, 18, 9, 19, 20, 15], [3, 8, 18, 9, 19, 20, 15, 16], [3, 8, 18, 9, 19, 20, 15, 16, 8], [3, 8, 18, 9, 19, 20, 15, 16, 8, 5], [3, 8, 18, 9, 19, 20, 15, 16, 8, 5, 18], [10], [10, 5]]\n",
            "Y data\n",
            "[9, 3, 8, 1, 5, 12, 0, 8, 18, 9, 19, 20, 15, 16, 8, 5, 18, 0, 5, 19]\n"
          ]
        }
      ],
      "source": [
        "dataX = [] # x data\n",
        "dataY_original = [] # y data (labels) - simply the next char\n",
        "\n",
        "for name in names['name']:\n",
        "    for i in range(len(name)):\n",
        "        if i < len(name) - 1:\n",
        "            dataX.append([char_to_int[char] for char in name[0:i+1]])\n",
        "            dataY_original.append(char_to_int[name[i+1]])\n",
        "        else:\n",
        "            dataX.append([char_to_int[char] for char in name[0:i+1]])\n",
        "            dataY_original.append(0)\n",
        "\n",
        "print('X data')\n",
        "print(dataX[:20])\n",
        "print('Y data')\n",
        "print(dataY_original[:20])\n",
        "originalY = dataY_original[:20]"
      ]
    },
    {
      "cell_type": "markdown",
      "metadata": {
        "id": "uh4jfYCH1nHP"
      },
      "source": [
        "A label (Y data) is simply the next char in a name. That is how all char-based models work at the train phase."
      ]
    },
    {
      "cell_type": "markdown",
      "metadata": {
        "id": "cpqJxSB114Rb"
      },
      "source": [
        "Now we begin adding randomness to the model.\n",
        "At first, we declare a RAND_Y value, which tells, every which char we replace by a random one. If RAND_Y equals zero, there's no randomness and all labels remain unchained."
      ]
    },
    {
      "cell_type": "code",
      "execution_count": 9,
      "metadata": {
        "id": "ku1RLcxV2Yg6"
      },
      "outputs": [],
      "source": [
        "def get_Y(dataY, RAND_Y = 0):\n",
        "  if RAND_Y > 0:\n",
        "      for i, y in enumerate(dataY):\n",
        "          if y != 0:\n",
        "              if np.random.randint(0, RAND_Y) == 0: # on average, we will replace every RAND_Yth char with a randomly selected char\n",
        "                  dataY[i] = np.random.randint(1, len(chars))\n",
        "  return dataY"
      ]
    },
    {
      "cell_type": "markdown",
      "metadata": {
        "id": "crXljCTb6Xd1"
      },
      "source": [
        "Let's see how the first 10 labels look like after various RAND_Y values."
      ]
    },
    {
      "cell_type": "code",
      "execution_count": 10,
      "metadata": {
        "colab": {
          "base_uri": "https://localhost:8080/"
        },
        "id": "i7tIC6ks99n8",
        "outputId": "22863b0f-a071-44b1-cc3c-c36832b71d9a"
      },
      "outputs": [
        {
          "output_type": "stream",
          "name": "stdout",
          "text": [
            "No randomness\n",
            "Original Y: [9, 3, 8, 1, 5, 12, 0, 8, 18, 9, 19, 20, 15, 16, 8, 5, 18, 0, 5, 19]\n",
            "Modified Y: [9, 3, 8, 1, 5, 12, 0, 8, 18, 9, 19, 20, 15, 16, 8, 5, 18, 0, 5, 19]\n"
          ]
        }
      ],
      "source": [
        "print(\"No randomness\")\n",
        "dataY = get_Y(dataY_original, RAND_Y = 0)\n",
        "RAND_Y = 0\n",
        "print(f\"Original Y: {originalY}\")\n",
        "print(f\"Modified Y: {dataY[:20]}\")"
      ]
    },
    {
      "cell_type": "code",
      "execution_count": 11,
      "metadata": {
        "colab": {
          "base_uri": "https://localhost:8080/"
        },
        "id": "tCYeQsjl9d_Y",
        "outputId": "36c9ce0f-e5dc-4fe8-f78c-71deb097d212"
      },
      "outputs": [
        {
          "output_type": "stream",
          "name": "stdout",
          "text": [
            "Every 7th modified\n",
            "Original Y: [9, 3, 8, 1, 5, 12, 0, 8, 18, 9, 19, 20, 15, 16, 8, 5, 18, 0, 5, 19]\n",
            "Modified Y: [9, 20, 8, 1, 5, 12, 0, 8, 18, 9, 19, 20, 15, 16, 8, 5, 18, 0, 5, 19]\n"
          ]
        }
      ],
      "source": [
        "RAND_Y = 7\n",
        "print(f\"Every {RAND_Y}th modified\")\n",
        "dataY = get_Y(dataY_original, RAND_Y)\n",
        "\n",
        "print(f\"Original Y: {originalY}\")\n",
        "print(f\"Modified Y: {dataY[:20]}\")"
      ]
    },
    {
      "cell_type": "markdown",
      "metadata": {
        "id": "MYZosa53DqCN"
      },
      "source": [
        "Now we need to prepare data so that they fit an LSTM network.\n",
        "All steps are basic and self-explanatory."
      ]
    },
    {
      "cell_type": "code",
      "execution_count": 12,
      "metadata": {
        "colab": {
          "base_uri": "https://localhost:8080/"
        },
        "id": "FDchOWqqD05W",
        "outputId": "032647b6-9af1-46ca-8e64-09635eb409e1"
      },
      "outputs": [
        {
          "output_type": "stream",
          "name": "stdout",
          "text": [
            "X shape: (115316, 15, 1)\n",
            "Y shape: (115316, 27)\n"
          ]
        }
      ],
      "source": [
        "X = pad_sequences(dataX, maxlen=max_len, dtype='float32')\n",
        "num_of_chars = max(dataY)\n",
        "X = X/num_of_chars\n",
        "Y = to_categorical(dataY)\n",
        "X = X.reshape(X.shape[0], X.shape[1], 1)\n",
        "print(f\"X shape: {X.shape}\")\n",
        "print(f\"Y shape: {Y.shape}\")"
      ]
    },
    {
      "cell_type": "markdown",
      "metadata": {
        "id": "5-oq94JIH2uf"
      },
      "source": [
        "Let's build our model. Two layers of Bidirectional LSTM with a serious dropout."
      ]
    },
    {
      "cell_type": "code",
      "execution_count": 13,
      "metadata": {
        "id": "mIfr22rqHxCm"
      },
      "outputs": [],
      "source": [
        "def get_model():\n",
        "  model = Sequential()\n",
        "  model.add(Bidirectional(LSTM(16, return_sequences=True, input_shape=(X.shape[1], 1))))\n",
        "  model.add(Dropout(0.5))\n",
        "  model.add(Bidirectional(LSTM(16)))\n",
        "  model.add(Dropout(0.5))\n",
        "  model.add(Dense(Y.shape[1], activation='softmax'))\n",
        "  model.compile(loss='categorical_crossentropy', optimizer='adam', metrics=['accuracy'])\n",
        "  return model"
      ]
    },
    {
      "cell_type": "markdown",
      "metadata": {
        "id": "UyaQK8BWXJz5"
      },
      "source": [
        "We've already seen how randomness is added at a training data level. Now let's see how a \"simplified Beam\" is added at a text generating level.\n",
        "\n",
        "A simple choice is a greedy serach. After a predict method produces a vector of \"probabilities\" for each char, we choose the one with the highest value."
      ]
    },
    {
      "cell_type": "code",
      "execution_count": 14,
      "metadata": {
        "id": "d0_bducTZnFw"
      },
      "outputs": [],
      "source": [
        "# c = model.predict(wordX.reshape(1, max_len, 1), verbose = 0) # a vector\n",
        "# c_max = int(c.argmax(axis=1)) # amvalue with a max probability"
      ]
    },
    {
      "cell_type": "markdown",
      "metadata": {
        "id": "tvBlFCnCZs5v"
      },
      "source": [
        "An alternative is to choose between a couple of values with the highest score from the probability method. We can randomly choose from a list of all chars using a probability vector as a p parameter in an np.random.choice method.\n",
        "\n",
        "However, if we have a more or less flat vector of probabilities, like let's say 'a' = 0.05, 'b' = 0.07, 'c' = 0.08 etc. we would end with a chaotic noise rather than any interesting output sounding like a real name.\n",
        "\n",
        "To avoid this, we can penalize lower probability values and multiply higher values with a simple trick. We take each vector value and raise to power of MULTIPLIER level. Later, we normalize all values so that all probabilities sum up to 1 and can be used as a p parameter in an np.random.choice method.\n",
        "\n",
        "I usually used MULTIPLIER = 3 value. Let's see how it works.\n",
        "Let's say we have ten chars in our alphabet. We will generate a vector of probabilities for each char and normalize so that they sum up to 1.\n",
        "\n"
      ]
    },
    {
      "cell_type": "code",
      "execution_count": 15,
      "metadata": {
        "colab": {
          "base_uri": "https://localhost:8080/"
        },
        "id": "5YJZL-JcpvNS",
        "outputId": "6d07168f-40b8-4b8e-e325-0c6324dae1d7"
      },
      "outputs": [
        {
          "output_type": "stream",
          "name": "stdout",
          "text": [
            "[0.2  0.17 0.14 0.14 0.12 0.07 0.07 0.04 0.03 0.02]\n",
            "0.51\n"
          ]
        }
      ],
      "source": [
        "v = np.random.random(10)\n",
        "v = v / sum(v)\n",
        "v = np.sort(v)[::-1]\n",
        "v = np.round(v, 2)\n",
        "print(v)\n",
        "print(np.sum(v[:3]))"
      ]
    },
    {
      "cell_type": "markdown",
      "metadata": {
        "id": "zVLVicmEp2xl"
      },
      "source": [
        "Let's assume, that we treat top 2-3 chars as \"good\", which means that choosing out of them we expect to produce a sensible name that \"sounds good\". We should somehow minimze the probability of choosing out of the remaining 7-8 chars, but still keep the order of top 2-3 chars in terms of their probability. On the other hand, we do not want to simply cut off the long tail, rather diminish its probability.\n",
        "\n",
        "Let's see how applying a \"simplified Beam\" with MULTIPLIER = 3 changes our vector."
      ]
    },
    {
      "cell_type": "code",
      "execution_count": 16,
      "metadata": {
        "id": "5TFWOet3qopC"
      },
      "outputs": [],
      "source": [
        "MULTIPLIER = 3"
      ]
    },
    {
      "cell_type": "code",
      "execution_count": 17,
      "metadata": {
        "colab": {
          "base_uri": "https://localhost:8080/"
        },
        "id": "oTZaXOSeqlLl",
        "outputId": "b4d20c8b-b1c5-4a17-a2f4-846d0e325658"
      },
      "outputs": [
        {
          "output_type": "stream",
          "name": "stdout",
          "text": [
            "[0.38 0.23 0.13 0.13 0.08 0.02 0.02 0.   0.   0.  ]\n",
            "0.74\n"
          ]
        }
      ],
      "source": [
        "c = [x ** MULTIPLIER for x in v] #premiujemy największe prawdopodobieństwa\n",
        "c = [x / sum(c) for x in c]\n",
        "c = np.round(c, 2)\n",
        "print(c)\n",
        "print(np.sum(c[:3]))"
      ]
    },
    {
      "cell_type": "markdown",
      "metadata": {
        "id": "44cJwJ5cZrfs"
      },
      "source": [
        "As we can see, two top values (0.3 and 0.44) are strengthened and now sum up to 0.93, the other values were made significant.\n",
        "On the other hand, it's still much more random than greedy search."
      ]
    },
    {
      "cell_type": "markdown",
      "metadata": {
        "id": "UnubSvWr2J33"
      },
      "source": [
        "Now let's see how it looks like with different MULTIPLIER values (from 2 to 6) on a 10 char vector."
      ]
    },
    {
      "cell_type": "code",
      "execution_count": 18,
      "metadata": {
        "colab": {
          "base_uri": "https://localhost:8080/"
        },
        "id": "uN5wUHZX2S9S",
        "outputId": "67ba5188-b618-4399-d2d2-4c9e89631e94"
      },
      "outputs": [
        {
          "output_type": "stream",
          "name": "stdout",
          "text": [
            "Original vector sorted:\n",
            "[0.21 0.13 0.12 0.11 0.11 0.1  0.08 0.07 0.04 0.01]\n",
            "Sum of the first three values: 0.46\n",
            "\n",
            "Vector with multiplier 2:\n",
            "[0.36 0.14 0.12 0.1  0.1  0.08 0.05 0.04 0.01 0.  ]\n",
            "Sum of the first three values: 0.62\n",
            "\n",
            "Vector with multiplier 3:\n",
            "[0.52 0.12 0.1  0.07 0.07 0.06 0.03 0.02 0.   0.  ]\n",
            "Sum of the first three values: 0.74\n",
            "\n",
            "Vector with multiplier 4:\n",
            "[0.67 0.1  0.07 0.05 0.05 0.03 0.01 0.01 0.   0.  ]\n",
            "Sum of the first three values: 0.84\n",
            "\n",
            "Vector with multiplier 5:\n",
            "[0.79 0.07 0.05 0.03 0.03 0.02 0.01 0.   0.   0.  ]\n",
            "Sum of the first three values: 0.91\n",
            "\n",
            "Vector with multiplier 6:\n",
            "[0.87 0.05 0.03 0.02 0.02 0.01 0.   0.   0.   0.  ]\n",
            "Sum of the first three values: 0.95\n",
            "\n"
          ]
        }
      ],
      "source": [
        "def beam(vec_len, multiplier):\n",
        "    v = np.random.random(vec_len)\n",
        "    v = v / sum(v)\n",
        "    v = np.sort(v)[::-1]\n",
        "    v = np.round(v, 2)\n",
        "    print('Original vector sorted:')\n",
        "    print(v)\n",
        "    print(f\"Sum of the first three values: {np.sum(v[:3]):.2f}\\n\")\n",
        "\n",
        "    for m in multiplier:\n",
        "        c = [x ** m for x in v] #premiujemy największe prawdopodobieństwa\n",
        "        c = [x / sum(c) for x in c]\n",
        "        c = np.round(c, 2)\n",
        "        print(f\"Vector with multiplier {m}:\")\n",
        "        print(c)\n",
        "        print(f\"Sum of the first three values: {np.sum(c[:3]):.2f}\\n\")\n",
        "\n",
        "\n",
        "beam(vec_len = 10, multiplier = [2, 3, 4, 5, 6])"
      ]
    },
    {
      "cell_type": "markdown",
      "metadata": {
        "id": "4tyHnUlp2585"
      },
      "source": [
        "I will try 3 and 6 values in a model."
      ]
    },
    {
      "cell_type": "markdown",
      "metadata": {
        "id": "XCq6xL-UO5tL"
      },
      "source": [
        "So, we are now ready with the model.\n",
        "We will generate 10 series of names, 10 in each serie.\n",
        "The model is compiled once at the beginning and it is fit with the data in each series. We will observe how the quality of the generated names gets augmented (or does not?) with each consecitive fit for 10 epochs.\n",
        "\n"
      ]
    },
    {
      "cell_type": "markdown",
      "metadata": {
        "id": "BZ5qCz03lyyt"
      },
      "source": [
        "Let's start with a greedy search and no randomnes in training data!"
      ]
    },
    {
      "cell_type": "code",
      "execution_count": 19,
      "metadata": {
        "colab": {
          "base_uri": "https://localhost:8080/"
        },
        "id": "WcchQNZPLYDy",
        "outputId": "5a84318d-a7da-491b-d487-5755869cad27"
      },
      "outputs": [
        {
          "output_type": "stream",
          "name": "stdout",
          "text": [
            "RandY: [0, 3, 5]\n",
            "Series  1 names: ['brana ', 'rara ', 'lara ', 'para ', 'para ', 'qara ', 'nara ', 'jara ', 'rara ', 'brana '] after 2.56 minutes.\n",
            "Series  2 names: ['iaria ', 'xarana ', 'yarana ', 'varia ', 'varia ', 'yarana ', 'naria ', 'zarana ', 'garia ', 'darana '] after 1.42 minutes.\n",
            "Series  3 names: ['iaria ', 'qhana ', 'brann ', 'naria ', 'jaria ', 'karia ', 'taria ', 'yaran ', 'zannn ', 'anann '] after 2.43 minutes.\n",
            "Series  4 names: ['tannn ', 'paria ', 'chan ', 'shana ', 'tannn ', 'jaria ', 'wannn ', 'rannn ', 'laria ', 'shana '] after 2.41 minutes.\n",
            "Series  5 names: ['haria ', 'paria ', 'shana ', 'iaria ', 'tanan ', 'elana ', 'paria ', 'zanan ', 'nrian ', 'naria '] after 1.42 minutes.\n",
            "Series  6 names: ['garin ', 'shana ', 'tanan ', 'nnana ', 'qaria ', 'anan ', 'uanan ', 'uanan ', 'chana ', 'nnana '] after 1.42 minutes.\n",
            "Series  7 names: ['garia ', 'qaria ', 'faria ', 'naria ', 'yanan ', 'iaria ', 'raria ', 'taria ', 'anan ', 'wanan '] after 1.43 minutes.\n",
            "Series  8 names: ['yanan ', 'qarin ', 'bran ', 'qarin ', 'farin ', 'harin ', 'parin ', 'elena ', 'rarin ', 'parin '] after 1.40 minutes.\n",
            "Series  9 names: ['brina ', 'qarin ', 'uarin ', 'uarin ', 'jarin ', 'rarin ', 'channa ', 'tarin ', 'garin ', 'marin '] after 1.39 minutes.\n",
            "Series 10 names: ['uanan ', 'yanan ', 'elenna ', 'zanan ', 'marin ', 'zanan ', 'narin ', 'uanan ', 'iarin ', 'jarin '] after 1.41 minutes.\n",
            "ALL NAMES GENERATED after 84.63 seconds\n"
          ]
        }
      ],
      "source": [
        "from time import time\n",
        "names_full = []\n",
        "\n",
        "not_starting = list(np.arange(26, 33)) # only applies to Polish names\n",
        "not_starting = [] # empty for English names\n",
        "\n",
        "model = get_model()\n",
        "\n",
        "RAND_Y = [0, 3, 5]\n",
        "MULTIPLIER_true = [3, 6]\n",
        "MULTIPLIER_false = [1]\n",
        "BEAM = [False, True]\n",
        "EPOCHS = 5\n",
        "SERIES = 10\n",
        "RANDOM_CHARS = False\n",
        "\n",
        "print(f\"RandY: {RAND_Y}\")\n",
        "\n",
        "for i in range(SERIES):\n",
        "    tic = time()\n",
        "    model.fit(X, Y, epochs=EPOCHS, verbose=0, batch_size=64)\n",
        "    names_ = []\n",
        "    if i % 1 == 0:\n",
        "        for k in range(10):\n",
        "            n = np.random.randint(1, num_of_chars + 1) #we genearate the first char of the name\n",
        "            while n in not_starting: #used only for Polish names\n",
        "                n = np.random.randint(1, num_of_chars + 1)\n",
        "            n = n/num_of_chars #scaling for an LSTM model\n",
        "\n",
        "            word = [[]]\n",
        "            word[0].append(n)\n",
        "            for j in range(max_len):\n",
        "                wordX = pad_sequences(word, maxlen=max_len, dtype='float32')\n",
        "                c = model.predict(wordX.reshape(1, max_len, 1), verbose = 0)\n",
        "                if RANDOM_CHARS == True:\n",
        "                    c = list(c.flatten())\n",
        "                    c = [x ** MULTIPLIER for x in c]\n",
        "                    c = [x / sum(c) for x in c]\n",
        "                    c_max = np.random.choice(chars, p = c)\n",
        "                    c_max = char_to_int[c_max]\n",
        "                else:\n",
        "                    c_max = int(c.argmax(axis=1))\n",
        "                word[0].append(c_max/num_of_chars)\n",
        "                if c_max == 0:\n",
        "                    break\n",
        "            imie = ''.join([int_to_char[int(char*num_of_chars)] for char in word[0]])\n",
        "\n",
        "            names_.append(imie)\n",
        "\n",
        "        print(f\"Series {i+1:>2} names: {names_} after {(time() - tic)/60:.2f} minutes.\")\n",
        "        names_full.append(names_)\n",
        "\n",
        "        df = pd.DataFrame(names_full)\n",
        "\n",
        "print(f'ALL NAMES GENERATED after {time() - tic:.2f} seconds')\n",
        "df.to_csv('data/English_greedy_norand.csv')\n",
        "\n"
      ]
    },
    {
      "cell_type": "code",
      "execution_count": 20,
      "metadata": {
        "id": "tRsg99QQk9bU"
      },
      "outputs": [],
      "source": [
        "import tensorflow as tf\n",
        "import random as python_random\n",
        "from time import time\n",
        "\n",
        "def reset_seeds():\n",
        "   np.random.seed(123)\n",
        "   python_random.seed(123)\n",
        "   tf.random.set_seed(1234)\n",
        "\n",
        "def get_data(rand_y):\n",
        "    names = pd.read_csv('data/E_names.csv')\n",
        "    max_len = names['len'].max()\n",
        "\n",
        "    nlist = list(names['name'])\n",
        "    text = ' '.join(nlist)\n",
        "    chars = sorted(list(set(text)))\n",
        "\n",
        "    char_to_int = dict((c, i) for i, c in enumerate(chars))\n",
        "    int_to_char = dict((i, c) for i, c in enumerate(chars))\n",
        "\n",
        "    dataX = [] # x data\n",
        "    dataY = [] # y data (labels) - simply the next char\n",
        "\n",
        "    for name in names['name']:\n",
        "        for i in range(len(name)):\n",
        "            if i < len(name) - 1:\n",
        "                dataX.append([char_to_int[char] for char in name[0:i+1]])\n",
        "                dataY.append(char_to_int[name[i+1]])\n",
        "            else:\n",
        "                dataX.append([char_to_int[char] for char in name[0:i+1]])\n",
        "                dataY.append(0)\n",
        "\n",
        "    if rand_y > 0:\n",
        "        for i, y in enumerate(dataY):\n",
        "            if y != 0:\n",
        "                if np.random.randint(0, rand_y) == 0: # on average, we will replace every RAND_Yth char with a randomly selected char\n",
        "                    # print('losowo')\n",
        "                    dataY[i] = np.random.randint(1, len(chars))\n",
        "\n",
        "\n",
        "    X = pad_sequences(dataX, maxlen=max_len, dtype='float32')\n",
        "    num_of_chars = max(dataY)\n",
        "    X = X/num_of_chars\n",
        "    Y = to_categorical(dataY)\n",
        "    X = X.reshape(X.shape[0], X.shape[1], 1)\n",
        "\n",
        "    return X, Y, max_len, char_to_int, int_to_char, num_of_chars, chars\n"
      ]
    },
    {
      "cell_type": "markdown",
      "metadata": {
        "id": "ZV8kbbzjn0W_"
      },
      "source": [
        "For speed, we will use a slightly smaller network with 16 neurons in each of two LSTM layers.\n",
        "For repeatability, we will reset seed each time at the model restart."
      ]
    },
    {
      "cell_type": "code",
      "execution_count": 21,
      "metadata": {
        "id": "vxYxcohzljYw"
      },
      "outputs": [],
      "source": [
        "def get_model():\n",
        "    reset_seeds()\n",
        "\n",
        "    model = Sequential()\n",
        "    model.add(Bidirectional(LSTM(16, return_sequences=True, input_shape=(X.shape[1], 1))))\n",
        "    # model.add(Bidirectional(LSTM(16, input_shape=(X.shape[1], 1))))\n",
        "    model.add(Dropout(0.5))\n",
        "    model.add(Bidirectional(LSTM(16)))\n",
        "    model.add(Dropout(0.3))\n",
        "    model.add(Dense(Y.shape[1], activation='softmax'))\n",
        "    model.compile(loss='categorical_crossentropy', optimizer='adam', metrics=['accuracy'])\n",
        "    return model"
      ]
    },
    {
      "cell_type": "code",
      "execution_count": 22,
      "metadata": {
        "id": "YTClKuuntyka"
      },
      "outputs": [],
      "source": [
        "not_starting = list(np.arange(26, 33)) # only applies to Polish names\n",
        "not_starting = [] # only applies to Polish names\n",
        "\n",
        "RAND_Y = [0, 3, 5]\n",
        "MULTIPLIER_true = [3, 6]\n",
        "MULTIPLIER_false = [1]\n",
        "BEAM = [False, True]\n",
        "EPOCHS = 5\n",
        "SERIES = 10"
      ]
    },
    {
      "cell_type": "code",
      "execution_count": 23,
      "metadata": {
        "colab": {
          "base_uri": "https://localhost:8080/"
        },
        "id": "wFzUazRdt55Z",
        "outputId": "9aa88744-d897-4368-e104-d7fd90a4b28a"
      },
      "outputs": [
        {
          "output_type": "stream",
          "name": "stdout",
          "text": [
            "\n",
            "Generating: English__beam:False__multiplier:1__rand_y:0\n",
            "Series  1 names: ['narana ', 'carana ', 'carana ', 'garana ', 'rarana ', 'tarana ', 'karana ', 'zaria ', 'waria ', 'brara '] after 2.57 minutes.\n",
            "Series  2 names: ['anaria ', 'raria ', 'paria ', 'jaria ', 'anaria ', 'naria ', 'anaria ', 'paria ', 'zaria ', 'taria '] after 2.41 minutes.\n",
            "Series  3 names: ['naria ', 'elana ', 'anana ', 'qaria ', 'elana ', 'raria ', 'xaria ', 'daria ', 'chana ', 'uaria '] after 2.41 minutes.\n",
            "Series  4 names: ['harisha ', 'chana ', 'uarisha ', 'parisha ', 'yanan ', 'qarisha ', 'harisha ', 'jarisha ', 'darisha ', 'uarisha '] after 1.42 minutes.\n",
            "Series  5 names: ['garisha ', 'brista ', 'varisha ', 'warisha ', 'chana ', 'brista ', 'marisha ', 'iarisha ', 'darista ', 'karisha '] after 1.42 minutes.\n",
            "Series  6 names: ['farisha ', 'anana ', 'larisha ', 'chana ', 'karisha ', 'warisha ', 'narisha ', 'shana ', 'elisha ', 'parisha '] after 1.41 minutes.\n",
            "Series  7 names: ['larisha ', 'marisha ', 'uarisha ', 'garisha ', 'narisha ', 'tarisha ', 'quana ', 'garisha ', 'nrina ', 'uarisha '] after 1.42 minutes.\n",
            "Series  8 names: ['harisha ', 'larisha ', 'warisha ', 'harisha ', 'brisha ', 'larisha ', 'farisha ', 'xarisha ', 'zanan ', 'shana '] after 1.44 minutes.\n",
            "Series  9 names: ['uarisha ', 'yanna ', 'rarisha ', 'marisha ', 'shana ', 'rarisha ', 'brista ', 'tarisha ', 'marisha ', 'varisha '] after 1.42 minutes.\n",
            "Series 10 names: ['jarisha ', 'qusha ', 'yanan ', 'rarisha ', 'wanan ', 'darisha ', 'darisha ', 'larisha ', 'vanan ', 'zanan '] after 1.43 minutes.\n",
            "\n",
            "Generating: English__beam:False__multiplier:1__rand_y:3\n",
            "Series  1 names: ['nara ', 'carana ', 'carana ', 'garana ', 'rara ', 'tara ', 'kara ', 'zara ', 'wara ', 'barara '] after 1.56 minutes.\n",
            "Series  2 names: ['araria ', 'raria ', 'paria ', 'jaria ', 'araria ', 'naria ', 'araria ', 'paria ', 'zaria ', 'taria '] after 1.41 minutes.\n",
            "Series  3 names: ['naria ', 'earia ', 'anania ', 'qaria ', 'earia ', 'raria ', 'xania ', 'daria ', 'chana ', 'uaria '] after 1.41 minutes.\n",
            "Series  4 names: ['haria ', 'chana ', 'uaria ', 'paria ', 'yaria ', 'qaria ', 'haria ', 'jaria ', 'daria ', 'uaria '] after 1.39 minutes.\n",
            "Series  5 names: ['garia ', 'brian ', 'varia ', 'waria ', 'chana ', 'brian ', 'maria ', 'iaria ', 'daria ', 'karia '] after 1.41 minutes.\n",
            "Series  6 names: ['faria ', 'anian ', 'laria ', 'chania ', 'karia ', 'waria ', 'naria ', 'saria ', 'elian ', 'paria '] after 1.41 minutes.\n",
            "Series  7 names: ['laria ', 'maria ', 'uania ', 'garia ', 'naria ', 'taria ', 'qaria ', 'garia ', 'naria ', 'uania '] after 1.41 minutes.\n",
            "Series  8 names: ['harin ', 'laria ', 'wania ', 'harin ', 'brina ', 'laria ', 'farin ', 'xania ', 'zania ', 'shania '] after 1.41 minutes.\n",
            "Series  9 names: ['uanin ', 'yanin ', 'ranin ', 'marin ', 'shana ', 'ranin ', 'brisha ', 'tanin ', 'marin ', 'vanin '] after 1.41 minutes.\n",
            "Series 10 names: ['jarin ', 'qarin ', 'yanin ', 'ranin ', 'wanin ', 'darin ', 'darin ', 'larin ', 'vanin ', 'zanin '] after 1.41 minutes.\n",
            "\n",
            "Generating: English__beam:False__multiplier:1__rand_y:5\n",
            "Series  1 names: ['nara ', 'carana ', 'carana ', 'garana ', 'rara ', 'tara ', 'karana ', 'zara ', 'wara ', 'brara '] after 2.56 minutes.\n",
            "Series  2 names: ['anaria ', 'raria ', 'paria ', 'jaria ', 'anaria ', 'naria ', 'anaria ', 'paria ', 'zaria ', 'taria '] after 2.41 minutes.\n",
            "Series  3 names: ['naria ', 'elania ', 'anania ', 'qaria ', 'elania ', 'raria ', 'xania ', 'daria ', 'chania ', 'uania '] after 1.41 minutes.\n",
            "Series  4 names: ['haria ', 'chania ', 'uania ', 'paria ', 'yania ', 'qaria ', 'haria ', 'jaria ', 'daria ', 'uania '] after 1.38 minutes.\n",
            "Series  5 names: ['garia ', 'brian ', 'vania ', 'wania ', 'chan ', 'brian ', 'maria ', 'iaria ', 'daria ', 'karia '] after 1.41 minutes.\n",
            "Series  6 names: ['farisa ', 'anisia ', 'larisa ', 'chana ', 'karisa ', 'wanan ', 'narisa ', 'saria ', 'elena ', 'parisa '] after 1.42 minutes.\n",
            "Series  7 names: ['larisa ', 'marisa ', 'uarin ', 'garisa ', 'narisa ', 'tarin ', 'qarisa ', 'garisa ', 'narisa ', 'uarin '] after 1.42 minutes.\n",
            "Series  8 names: ['harisa ', 'larisa ', 'wanan ', 'harisa ', 'brisia ', 'larisa ', 'frisia ', 'xanan ', 'zanan ', 'sarisa '] after 1.42 minutes.\n",
            "Series  9 names: ['uanan ', 'yanan ', 'ranan ', 'marisa ', 'sanan ', 'ranan ', 'brisia ', 'tanan ', 'marisa ', 'vanan '] after 1.37 minutes.\n",
            "Series 10 names: ['jarisa ', 'qarisa ', 'yanan ', 'rarisa ', 'wanan ', 'darisa ', 'darisa ', 'larisa ', 'vanan ', 'zanan '] after 1.38 minutes.\n",
            "\n",
            "Generating: English__beam:True__multiplier:3__rand_y:0\n",
            "Series  1 names: ['nanena ', 'araria ', 'earala ', 'yaria ', 'vanan ', 'aaenarea ', 'nanane ', 'lanena ', 'tarana ', 'zanla '] after 2.55 minutes.\n",
            "Series  2 names: ['jaria ', 'ranlna ', 'nania ', 'brria ', 'mari ', 'mamia ', 'narie ', 'marra ', 'xeran ', 'xacsia '] after 1.41 minutes.\n",
            "Series  3 names: ['narisha ', 'xian ', 'varia ', 'yalan ', 'cenishia ', 'chanan ', 'deria ', 'xania ', 'hanan ', 'varisia '] after 1.42 minutes.\n",
            "Series  4 names: ['vanden ', 'garisa ', 'dnria ', 'tarina ', 'rarin ', 'garisha ', 'nanand ', 'narin ', 'nanan ', 'chshn '] after 1.42 minutes.\n",
            "Series  5 names: ['deriste ', 'ganelnn ', 'tanda ', 'rariele ', 'yaranna ', 'jnrin ', 'herna ', 'ramin ', 'kariela ', 'hale '] after 1.44 minutes.\n",
            "Series  6 names: ['chailia ', 'karri ', 'terila ', 'uamen ', 'harine ', 'karnelia ', 'jarisa ', 'jarisa ', 'alisan ', 'narrin '] after 1.42 minutes.\n",
            "Series  7 names: ['chala ', 'pasha ', 'ilane ', 'aneelia ', 'sharia ', 'jarle ', 'zarlia ', 'wanan ', 'elalisha ', 'ralisha '] after 1.42 minutes.\n",
            "Series  8 names: ['jenen ', 'palisha ', 'paneel ', 'nariey ', 'yaria ', 'hamela ', 'rale ', 'latrie ', 'wanishe ', 'iristia '] after 1.42 minutes.\n",
            "Series  9 names: ['derisa ', 'ynnan ', 'marisse ', 'quanie ', 'karrie ', 'zaria ', 'nndria ', 'nstan ', 'brinan ', 'uimina '] after 1.42 minutes.\n",
            "Series 10 names: ['tanina ', 'marice ', 'uerisha ', 'marrie ', 'shanie ', 'selesha ', 'marlell ', 'chanel ', 'jayna ', 'griana '] after 1.43 minutes.\n",
            "\n",
            "Generating: English__beam:True__multiplier:6__rand_y:0\n",
            "Series  1 names: ['narela ', 'araria ', 'earana ', 'yaria ', 'varan ', 'aarania ', 'uarana ', 'harana ', 'rarana ', 'larana '] after 1.60 minutes.\n",
            "Series  2 names: ['jaria ', 'rarria ', 'naria ', 'brria ', 'maria ', 'uaria ', 'naria ', 'maria ', 'xaria ', 'xamia '] after 1.42 minutes.\n",
            "Series  3 names: ['shana ', 'yarian ', 'danin ', 'elina ', 'jaria ', 'xaria ', 'karia ', 'daria ', 'xaria ', 'haria '] after 1.38 minutes.\n",
            "Series  4 names: ['varisha ', 'varisha ', 'brina ', 'anenia ', 'tarisha ', 'rarisha ', 'karisha ', 'jarisha ', 'tametta ', 'narisha '] after 1.43 minutes.\n",
            "Series  5 names: ['jarista ', 'arina ', 'brisha ', 'farin ', 'ianan ', 'parine ', 'farista ', 'chanda ', 'karin ', 'nrista '] after 1.43 minutes.\n",
            "Series  6 names: ['xarisha ', 'yarisha ', 'andrin ', 'uarisha ', 'qerisha ', 'harisa ', 'uarice ', 'varisha ', 'elisa ', 'chana '] after 1.42 minutes.\n",
            "Series  7 names: ['alanda ', 'uaria ', 'garian ', 'venen ', 'vinan ', 'elena ', 'raria ', 'wanan ', 'elana ', 'taria '] after 1.41 minutes.\n",
            "Series  8 names: ['fran ', 'jaris ', 'panesa ', 'warin ', 'xarisa ', 'xerin ', 'nrisha ', 'frana ', 'challe ', 'tarin '] after 1.41 minutes.\n",
            "Series  9 names: ['narha ', 'nranna ', 'parha ', 'narha ', 'laran ', 'sarha ', 'ferha ', 'andrha ', 'andre ', 'ilene '] after 1.41 minutes.\n",
            "Series 10 names: ['chania ', 'ilisha ', 'parina ', 'warisha ', 'rarisha ', 'garisha ', 'quena ', 'waria ', 'garisha ', 'varisha '] after 1.42 minutes.\n",
            "\n",
            "Generating: English__beam:True__multiplier:3__rand_y:3\n",
            "Series  1 names: ['nanen ', 'wara ', 'araken ', 'careee ', 'uarc ', 'mamei ', 'narii ', 'nama ', 'leena ', 'yarie '] after 1.58 minutes.\n",
            "Series  2 names: ['yarna ', 'cerii ', 'gelea ', 'karan ', 'warani ', 'erne ', 'mari ', 'maina ', 'naran ', 'marna '] after 1.42 minutes.\n",
            "Series  3 names: ['xhamea ', 'batra ', 'naniea ', 'daniln ', 'narra ', 'qiania ', 'carlia ', 'varnha ', 'tennea ', 'jaria '] after 1.43 minutes.\n",
            "Series  4 names: ['deran ', 'nara ', 'yasle ', 'vanene ', 'garis ', 'payie ', 'wavel ', 'zhana ', 'xhane ', 'kelel '] after 1.42 minutes.\n",
            "Series  5 names: ['nalana ', 'naria ', 'nalan ', 'chana ', 'deriela ', 'geleln ', 'harel ', 'tania ', 'ieani ', 'parlan '] after 1.43 minutes.\n",
            "Series  6 names: ['fasan ', 'jarem ', 'sania ', 'hatel ', 'uasise ', 'taria ', 'yaran ', 'jarnes ', 'ualen ', 'hanele '] after 1.43 minutes.\n",
            "Series  7 names: ['karlia ', 'karia ', 'elnan ', 'vanrha ', 'wanien ', 'lerie ', 'uaha ', 'patha ', 'iania ', 'anian '] after 1.38 minutes.\n",
            "Series  8 names: ['nagall ', 'jana ', 'jarren ', 'dnnia ', 'raren ', 'jaria ', 'qalan ', 'nayrel ', 'wacann ', 'maria '] after 1.41 minutes.\n",
            "Series  9 names: ['xande ', 'nassel ', 'narie ', 'brikia ', 'cha ', 'brande ', 'helie ', 'derice ', 'laria ', 'kaqria '] after 1.39 minutes.\n",
            "Series 10 names: ['brin ', 'charia ', 'jarie ', 'deshsa ', 'shania ', 'iarin ', 'chania ', 'iarian ', 'paria ', 'perinn '] after 1.42 minutes.\n",
            "\n",
            "Generating: English__beam:True__multiplier:6__rand_y:3\n",
            "Series  1 names: ['naran ', 'wara ', 'arana ', 'xanea ', 'harea ', 'carana ', 'naree ', 'nara ', 'lara ', 'sania '] after 1.57 minutes.\n",
            "Series  2 names: ['jarii ', 'haree ', 'xaran ', 'narna ', 'naria ', 'briia ', 'mare ', 'maria ', 'naran ', 'maria '] after 1.44 minutes.\n",
            "Series  3 names: ['xhania ', 'bhera ', 'naria ', 'laran ', 'nanan ', 'xania ', 'faria ', 'darei ', 'chana ', 'haria '] after 1.42 minutes.\n",
            "Series  4 names: ['jaria ', 'daran ', 'naran ', 'phane ', 'elani ', 'daria ', 'zartia ', 'warea ', 'zerha ', 'xaran '] after 1.43 minutes.\n",
            "Series  5 names: ['karia ', 'naren ', 'haria ', 'naran ', 'chane ', 'deria ', 'vararha ', 'qhania ', 'tarha ', 'ielan '] after 1.43 minutes.\n",
            "Series  6 names: ['paria ', 'feria ', 'tania ', 'iarie ', 'jarra ', 'heni ', 'chana ', 'yanie ', 'paria ', 'uania '] after 1.42 minutes.\n",
            "Series  7 names: ['zarhe ', 'haria ', 'paria ', 'karia ', 'elana ', 'varha ', 'zania ', 'narria ', 'chan ', 'iaria '] after 1.45 minutes.\n",
            "Series  8 names: ['alan ', 'yania ', 'naria ', 'faria ', 'jaria ', 'zannia ', 'wanel ', 'elan ', 'farie ', 'daria '] after 1.35 minutes.\n",
            "Series  9 names: ['jaria ', 'panera ', 'wanna ', 'xanne ', 'naria ', 'shanel ', 'brran ', 'neri ', 'bran ', 'zanna '] after 1.39 minutes.\n",
            "Series 10 names: ['zerha ', 'qaria ', 'faria ', 'yiania ', 'xanne ', 'qannel ', 'karise ', 'zarha ', 'naria ', 'xarha '] after 1.41 minutes.\n",
            "\n",
            "Generating: English__beam:True__multiplier:3__rand_y:5\n",
            "Series  1 names: ['nanena ', 'ararea ', 'earala ', 'yaria ', 'vanan ', 'aakalne ', 'uara ', 'uaral ', 'sanie ', 'jaril '] after 1.58 minutes.\n",
            "Series  2 names: ['hariei ', 'gemia ', 'karan ', 'warani ', 'erre ', 'mari ', 'malia ', 'narar ', 'marne ', 'xhalea '] after 1.42 minutes.\n",
            "Series  3 names: ['barra ', 'narin ', 'larelea ', 'narra ', 'qianna ', 'carin ', 'reerie ', 'darere ', 'jerin ', 'marra '] after 1.38 minutes.\n",
            "Series  4 names: ['xaria ', 'yarin ', 'varena ', 'garisa ', 'dnria ', 'tariel ', 'rarin ', 'garin ', 'fala ', 'farie '] after 1.41 minutes.\n",
            "Series  5 names: ['garania ', 'chan ', 'nanie ', 'xarri ', 'ganell ', 'harie ', 'tanel ', 'ieane ', 'pariese ', 'frarin '] after 1.40 minutes.\n",
            "Series  6 names: ['chame ', 'jenen ', 'nanar ', 'iasha ', 'arian ', 'varisha ', 'xende ', 'garria ', 'herisha ', 'chane '] after 1.41 minutes.\n",
            "Series  7 names: ['kariel ', 'vareta ', 'uelina ', 'garin ', 'uala ', 'pasha ', 'iarria ', 'jamere ', 'senin ', 'xanaria '] after 1.43 minutes.\n",
            "Series  8 names: ['rarra ', 'wanan ', 'elalele ', 'pueeria ', 'nyrha ', 'wagann ', 'marie ', 'xarisha ', 'nerin ', 'anni '] after 1.40 minutes.\n",
            "Series  9 names: ['brine ', 'nvma ', 'brende ', 'helin ', 'derria ', 'larren ', 'pawa ', 'harria ', 'lamin ', 'jarin '] after 1.41 minutes.\n",
            "Series 10 names: ['deshe ', 'verela ', 'zandia ', 'larri ', 'narie ', 'rarisha ', 'purisha ', 'marrin ', 'karina ', 'brine '] after 1.41 minutes.\n",
            "\n",
            "Generating: English__beam:True__multiplier:6__rand_y:5\n",
            "Series  1 names: ['naran ', 'wara ', 'arana ', 'xanee ', 'harea ', 'carana ', 'narei ', 'nara ', 'lara ', 'saria '] after 1.56 minutes.\n",
            "Series  2 names: ['jarie ', 'haria ', 'xaran ', 'narna ', 'naria ', 'briia ', 'maria ', 'uaran ', 'naran ', 'maria '] after 1.36 minutes.\n",
            "Series  3 names: ['xhana ', 'xalnia ', 'naria ', 'laran ', 'nanana ', 'elnen ', 'jarela ', 'chane ', 'iaran ', 'brnan '] after 1.41 minutes.\n",
            "Series  4 names: ['xaria ', 'haran ', 'varie ', 'naria ', 'chane ', 'uaria ', 'raria ', 'taria ', 'garie ', 'thania '] after 1.41 minutes.\n",
            "Series  5 names: ['garel ', 'taria ', 'talesa ', 'chan ', 'naria ', 'xarria ', 'aren ', 'qhania ', 'taria ', 'iaren '] after 1.42 minutes.\n",
            "Series  6 names: ['paria ', 'farren ', 'jarie ', 'sannel ', 'uaria ', 'iarie ', 'arine ', 'varisa ', 'uaria ', 'zarisa '] after 1.43 minutes.\n",
            "Series  7 names: ['elisis ', 'ranin ', 'jarisa ', 'jarisa ', 'alerie ', 'narris ', 'chan ', 'iarin ', 'alann ', 'elan '] after 1.43 minutes.\n",
            "Series  8 names: ['naria ', 'farrisa ', 'jarrisha ', 'wana ', 'brisa ', 'narisha ', 'lariste ', 'maria ', 'ranan ', 'tanel '] after 1.44 minutes.\n",
            "Series  9 names: ['qnna ', 'dnnice ', 'farrin ', 'gariste ', 'rnrista ', 'narisha ', 'nriste ', 'prista ', 'ranin ', 'xalin '] after 1.43 minutes.\n",
            "Series 10 names: ['qanen ', 'farisha ', 'shana ', 'zarin ', 'nrisha ', 'jarisha ', 'shana ', 'warisha ', 'derista ', 'karisha '] after 1.43 minutes.\n",
            "model finished\n"
          ]
        }
      ],
      "source": [
        "for beam in BEAM:\n",
        "    if beam:\n",
        "        MULTIPLIER = MULTIPLIER_true\n",
        "    else:\n",
        "        MULTIPLIER = MULTIPLIER_false\n",
        "    for rand_y in RAND_Y:\n",
        "        for multiplier in MULTIPLIER:\n",
        "            X, Y, max_len, char_to_int, int_to_char, num_of_chars, chars = get_data(rand_y)\n",
        "            file_name = 'English__beam:' + str(beam) + '__multiplier:' + str(multiplier) + '__rand_y:' + str(rand_y)\n",
        "            print(f'\\nGenerating: {file_name}')\n",
        "\n",
        "            model = get_model()\n",
        "            names_full = []\n",
        "            for i in range(SERIES):\n",
        "                tic = time()\n",
        "                model.fit(X, Y, epochs=EPOCHS, verbose=0, batch_size=64)\n",
        "                names_ = []\n",
        "                for k in range(10):\n",
        "                    n = np.random.randint(1, num_of_chars + 1)\n",
        "                    while n in not_starting:\n",
        "                        n = np.random.randint(1, num_of_chars + 1)\n",
        "                    n = n/num_of_chars\n",
        "\n",
        "                    word = [[]]\n",
        "                    word[0].append(n)\n",
        "                    for j in range(max_len):\n",
        "                        wordX = pad_sequences(word, maxlen=max_len, dtype='float32')\n",
        "                        c = model.predict(wordX.reshape(1, max_len, 1), verbose = 0)\n",
        "                        if beam:\n",
        "                            c = list(c.flatten())\n",
        "                            c = [x ** multiplier for x in c] #premiujemy największe prawdopodobieństwa\n",
        "                            c = [x / sum(c) for x in c]\n",
        "                            c_max = np.random.choice(chars, p = c) # nowa metoda wyboru kolejnej linii; wybierane wg prawdopodobieństwa, a\n",
        "                            c_max = char_to_int[c_max]\n",
        "                        else:\n",
        "                            c_max = int(c.argmax(axis=1)) # stara metoda wybierała zawsze argmax z predict\n",
        "                        word[0].append(c_max/num_of_chars)\n",
        "                        if c_max == 0:\n",
        "                            break\n",
        "                    imie = ''.join([int_to_char[int(char*num_of_chars)] for char in word[0]])\n",
        "                    names_.append(imie)\n",
        "                print(f\"Series {i + 1:>2} names: {names_} after {(time() - tic) / 60:.2f} minutes.\")\n",
        "                names_full.append(names_)\n",
        "\n",
        "            df = pd.DataFrame(names_full)\n",
        "            df.to_csv('data/' + file_name + '.csv')\n",
        "            # print(\"\\nSeries completed:\", i+1, \"\\n\")\n",
        "\n",
        "print('model finished')"
      ]
    },
    {
      "cell_type": "markdown",
      "source": [
        "If we take a look at the above outcome, we can easily formulate a couple of conclusions:\n",
        "\n",
        "\n",
        "1.   The less randomness, the more repetitive and \"boring\" the outcome\n",
        "2.   The first three results come from a \"greedy search\" procedure and we can see they are are more repetitive than the next six lists with a \"simplified beam\" method\n",
        "1.   Randomness at the word generation level (\"beam\" with lower multiplier value, e.g. 3) adds more flavour than randomness at the training level (randomly modified chars in a train set - rand_y > 0)\n",
        "2.   In this specific task, randomnes does not produce more nonsense, worthless results. If we take a list with \"beam\" True and rand_y positive, we do not find more useless propositions than in series generated without randomness.\n",
        "\n",
        "\n",
        "\n"
      ],
      "metadata": {
        "id": "8OuX81BFIo7I"
      }
    },
    {
      "cell_type": "markdown",
      "source": [
        "It is obvious that (at least at this level) only a human being can really assess the quality of the outcome. However, we can design some measures of the outcome diversity.\n",
        "Let's analyze each set of names and find out:\n",
        "\n",
        "\n",
        "1.   How many unique names we got\n",
        "2.   How many unique endings (2-grams, 3-grams and 4-grams) we got\n",
        "1.   How many different name lengths we have in a set\n",
        "\n",
        "\n",
        "\n"
      ],
      "metadata": {
        "id": "P-PzHPjMKH0R"
      }
    },
    {
      "cell_type": "code",
      "source": [
        "def print_df_stats(df):\n",
        "    try:\n",
        "        df.drop(['Unnamed: 0'], axis = 1, inplace = True)\n",
        "    except:\n",
        "        pass\n",
        "    df = df.stack().reset_index()\n",
        "    df.drop(['level_0', 'level_1'], inplace = True, axis = 1)\n",
        "\n",
        "    df.columns = ['name']\n",
        "    unique_len = len(df.name.unique())\n",
        "\n",
        "    df['len'] = df['name'].apply(lambda x: len(x))\n",
        "    df['last2'] = df['name'].apply(lambda x: x[-3:])\n",
        "    df['last3'] = df['name'].apply(lambda x: x[-4:])\n",
        "    df['last4'] = df['name'].apply(lambda x: x[-5:])\n",
        "    len(df['len'].unique())\n",
        "\n",
        "    print(f\"Number of unique names: {unique_len}\")\n",
        "    print(f\"Number of unique last 2 chars: {len(df['last2'].unique())}\")\n",
        "    print(f\"Number of unique last 3 chars: {len(df['last3'].unique())}\")\n",
        "    print(f\"Number of unique last 4 chars: {len(df['last4'].unique())}\")\n",
        "    print(f\"Number of different name lengths: {len(df['len'].unique())}\\n\")"
      ],
      "metadata": {
        "id": "8L_glsngL3QT"
      },
      "execution_count": 24,
      "outputs": []
    },
    {
      "cell_type": "code",
      "source": [
        "RAND_Y = [0, 5, 3]\n",
        "MULTIPLIER = [6, 3, 1]\n",
        "BEAM = [False, True]\n",
        "\n",
        "for b in BEAM:\n",
        "    for m in MULTIPLIER:\n",
        "        for r in RAND_Y:\n",
        "            file_name = 'English__beam:' + str(b) + '__multiplier:' + str(m) + '__rand_y:' + str(r)\n",
        "\n",
        "            try:\n",
        "                df = pd.read_csv('data/' + file_name + '.csv')\n",
        "                print(file_name)\n",
        "                print_df_stats(df)\n",
        "\n",
        "            except:\n",
        "                pass"
      ],
      "metadata": {
        "colab": {
          "base_uri": "https://localhost:8080/"
        },
        "id": "GgUdU43VL8v2",
        "outputId": "71b86441-fee7-45eb-eda7-2416e0a380d2"
      },
      "execution_count": 25,
      "outputs": [
        {
          "output_type": "stream",
          "name": "stdout",
          "text": [
            "English__beam:False__multiplier:1__rand_y:0\n",
            "Number of unique names: 53\n",
            "Number of unique last 2 chars: 6\n",
            "Number of unique last 3 chars: 8\n",
            "Number of unique last 4 chars: 13\n",
            "Number of different name lengths: 3\n",
            "\n",
            "English__beam:False__multiplier:1__rand_y:5\n",
            "Number of unique names: 63\n",
            "Number of unique last 2 chars: 6\n",
            "Number of unique last 3 chars: 11\n",
            "Number of unique last 4 chars: 16\n",
            "Number of different name lengths: 3\n",
            "\n",
            "English__beam:False__multiplier:1__rand_y:3\n",
            "Number of unique names: 59\n",
            "Number of unique last 2 chars: 6\n",
            "Number of unique last 3 chars: 9\n",
            "Number of unique last 4 chars: 17\n",
            "Number of different name lengths: 3\n",
            "\n",
            "English__beam:True__multiplier:6__rand_y:0\n",
            "Number of unique names: 88\n",
            "Number of unique last 2 chars: 15\n",
            "Number of unique last 3 chars: 27\n",
            "Number of unique last 4 chars: 40\n",
            "Number of different name lengths: 4\n",
            "\n",
            "English__beam:True__multiplier:6__rand_y:5\n",
            "Number of unique names: 82\n",
            "Number of unique last 2 chars: 20\n",
            "Number of unique last 3 chars: 34\n",
            "Number of unique last 4 chars: 47\n",
            "Number of different name lengths: 5\n",
            "\n",
            "English__beam:True__multiplier:6__rand_y:3\n",
            "Number of unique names: 78\n",
            "Number of unique last 2 chars: 18\n",
            "Number of unique last 3 chars: 32\n",
            "Number of unique last 4 chars: 45\n",
            "Number of different name lengths: 4\n",
            "\n",
            "English__beam:True__multiplier:3__rand_y:0\n",
            "Number of unique names: 98\n",
            "Number of unique last 2 chars: 25\n",
            "Number of unique last 3 chars: 54\n",
            "Number of unique last 4 chars: 76\n",
            "Number of different name lengths: 5\n",
            "\n",
            "English__beam:True__multiplier:3__rand_y:5\n",
            "Number of unique names: 98\n",
            "Number of unique last 2 chars: 30\n",
            "Number of unique last 3 chars: 56\n",
            "Number of unique last 4 chars: 70\n",
            "Number of different name lengths: 4\n",
            "\n",
            "English__beam:True__multiplier:3__rand_y:3\n",
            "Number of unique names: 99\n",
            "Number of unique last 2 chars: 30\n",
            "Number of unique last 3 chars: 64\n",
            "Number of unique last 4 chars: 78\n",
            "Number of different name lengths: 5\n",
            "\n"
          ]
        }
      ]
    },
    {
      "cell_type": "markdown",
      "source": [
        "A couple of observations:\n",
        "\n",
        "\n",
        "1.   The first three results with a greedy search (beam: False) have around 60 unique names each of them (out of 100 names generated) and a very limited number of unique 2-gram endings. Adding randomnes at a training data level (data_y = 3 and 5) does not change anything.\n",
        "2.   What really adds value in terms of diversity (without any visible loss in quality) is adding randomness at a text generation level (beam: True)."
      ],
      "metadata": {
        "id": "t6STZoD3K584"
      }
    },
    {
      "cell_type": "markdown",
      "source": [
        "That's it. I hope you enjoyed it. The model itself is very simple and can be copied from any ML/NLP textbook, but I hope experimenting with randomnes was a fun!"
      ],
      "metadata": {
        "id": "KP2HnpPHLn_Y"
      }
    }
  ],
  "metadata": {
    "accelerator": "GPU",
    "colab": {
      "provenance": [],
      "gpuType": "T4"
    },
    "kernelspec": {
      "display_name": "Python 3",
      "name": "python3"
    },
    "language_info": {
      "name": "python"
    }
  },
  "nbformat": 4,
  "nbformat_minor": 0
}